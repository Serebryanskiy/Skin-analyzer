{
 "cells": [
  {
   "cell_type": "markdown",
   "metadata": {
    "_uuid": "d3f6843b78793e1c047ca6909a7449dc9bfc3f1c"
   },
   "source": [
    "**LABELS**<br>\n",
    "\n",
    "Excerpts from the paper:<br>\n",
    "> The HAM10000 Dataset: A Large Collection of Multi-Source Dermatoscopic Images of Common Pigmented Skin Lesions<br>\n",
    "https://arxiv.org/abs/1803.10417\n",
    "\n",
    "\n",
    "\n",
    " **nv**<br>\n",
    " Melanocytic nevi are benign neoplasms of melanocytes and appear in a myriad of variants, which all are included in our series. The variants may differ significantly from a dermatoscopic point of view.<br>\n",
    " *[6705 images]*\n",
    " \n",
    " **mel**<br>\n",
    " Melanoma is a malignant neoplasm derived from melanocytes that may appear in different variants. If excised in an early stage it can be cured by simple surgical excision. Melanomas can be invasive or non-invasive (in situ). We included all variants of melanoma including melanoma in situ, but did exclude non-pigmented, subungual, ocular or mucosal melanoma.<br>*[1113 images]*\n",
    " \n",
    " \n",
    "**bkl**<br>\n",
    " \"Benign keratosis\" is a generic class that includes seborrheic ker- atoses (\"senile wart\"), solar lentigo - which can be regarded a flat variant of seborrheic keratosis - and lichen-planus like keratoses (LPLK), which corresponds to a seborrheic keratosis or a solar lentigo with inflammation\n",
    "and regression [22]. The three subgroups may look different dermatoscop- ically, but we grouped them together because they are similar biologically and often reported under the same generic term histopathologically. From a dermatoscopic view, lichen planus-like keratoses are especially challeng- ing because they can show morphologic features mimicking melanoma [23] and are often biopsied or excised for diagnostic reasons.<br>\n",
    "*[1099 images]*\n",
    "\n",
    "**bcc**<br>\n",
    "Basal cell carcinoma is a common variant of epithelial skin cancer that rarely metastasizes but grows destructively if untreated. It appears in different morphologic variants (flat, nodular, pigmented, cystic, etc) [21], which are all included in this set.<br>\n",
    "*[514 images]*\n",
    " \n",
    "**akiec**<br>\n",
    "Actinic Keratoses (Solar Keratoses) and intraepithelial Carcinoma (Bowen’s disease) are common non-invasive, variants of squamous cell car- cinoma that can be treated locally without surgery. Some authors regard them as precursors of squamous cell carcinomas and not as actual carci- nomas. There is, however, agreement that these lesions may progress to invasive squamous cell carcinoma - which is usually not pigmented. Both neoplasms commonly show surface scaling and commonly are devoid of pigment. Actinic keratoses are more common on the face and Bowen’s disease is more common on other body sites. Because both types are in- duced by UV-light the surrounding skin is usually typified by severe sun damaged except in cases of Bowen’s disease that are caused by human papilloma virus infection and not by UV. Pigmented variants exists for Bowen’s disease [19] and for actinic keratoses [20]. Both are included in this set.<br>*[327 images]*\n",
    "\n",
    "\n",
    "**vasc**<br>\n",
    "Vascular skin lesions in the dataset range from cherry angiomas to angiokeratomas [25] and pyogenic granulomas [26]. Hemorrhage is also included in this category.<br>\n",
    "*[142 images]*\n",
    "\n",
    "**df**<br>\n",
    "Dermatofibroma is a benign skin lesion regarded as either a benign proliferation or an inflammatory reaction to minimal trauma. It is brown often showing a central zone of fibrosis dermatoscopically [24].<br>*[115 images]*\n",
    "\n",
    "\n",
    "<br>*[Total images = 10015]*"
   ]
  },
  {
   "cell_type": "code",
   "execution_count": 1,
   "metadata": {},
   "outputs": [],
   "source": [
    "# !pip3 install --upgrade pandas\n",
    "# !pip3 install tensorflow-gpu==2.0.0b1\n",
    "# !pip3 install -U --pre efficientnet\n",
    "# !wget https://raw.githubusercontent.com/titu1994/keras_rectified_adam/master/tf_rectified_adam.py\n",
    "# !pip3 install keras-rectified-adam"
   ]
  },
  {
   "cell_type": "code",
   "execution_count": 2,
   "metadata": {},
   "outputs": [
    {
     "name": "stdout",
     "output_type": "stream",
     "text": [
      "[name: \"/device:CPU:0\"\n",
      "device_type: \"CPU\"\n",
      "memory_limit: 268435456\n",
      "locality {\n",
      "}\n",
      "incarnation: 1649309666016385120\n",
      ", name: \"/device:XLA_CPU:0\"\n",
      "device_type: \"XLA_CPU\"\n",
      "memory_limit: 17179869184\n",
      "locality {\n",
      "}\n",
      "incarnation: 9962289987777198895\n",
      "physical_device_desc: \"device: XLA_CPU device\"\n",
      "]\n"
     ]
    }
   ],
   "source": [
    "from tensorflow.python.client import device_lib\n",
    "print(device_lib.list_local_devices())"
   ]
  },
  {
   "cell_type": "code",
   "execution_count": 27,
   "metadata": {},
   "outputs": [
    {
     "name": "stdout",
     "output_type": "stream",
     "text": [
      "Tensorflow:  2.0.0\n",
      "Keras:  2.2.4-tf\n"
     ]
    }
   ],
   "source": [
    "from collections import Counter\n",
    "import os\n",
    "import shutil\n",
    "import numpy as np\n",
    "import pandas as pd\n",
    "import cv2\n",
    "import datetime\n",
    "import itertools\n",
    "\n",
    "from pathlib import Path\n",
    "from PIL import Image\n",
    "from tqdm import tqdm\n",
    "from glob import glob\n",
    "\n",
    "import matplotlib.pyplot as plt\n",
    "from matplotlib import style\n",
    "import seaborn as sns\n",
    "\n",
    "from sklearn.metrics import confusion_matrix\n",
    "from sklearn.model_selection import train_test_split\n",
    "\n",
    "from tensorflow.keras import models\n",
    "from tensorflow.keras.preprocessing.image import ImageDataGenerator\n",
    "from tensorflow.keras.preprocessing import image\n",
    "from tensorflow.keras.layers import Dropout, Flatten, Dense\n",
    "from tensorflow.keras.models import Model, Sequential\n",
    "from tensorflow.keras.layers import Dense, GlobalAveragePooling2D, BatchNormalization\n",
    "from tensorflow.keras import backend as K\n",
    "from tensorflow.keras.callbacks import ModelCheckpoint, ReduceLROnPlateau\n",
    "from tensorflow.keras.losses import CategoricalCrossentropy\n",
    "from tf_rectified_adam import RectifiedAdam\n",
    "from keras_radam.training import RAdamOptimizer\n",
    "# from tensorflow.keras.applications.nasnet import NASNetLarge\n",
    "# from tensorflow.keras.applications.nasnet import preprocess_input\n",
    "from efficientnet.tfkeras import EfficientNetB7, EfficientNetB6\n",
    "\n",
    "import tensorflow as tf\n",
    "\n",
    "%matplotlib inline  \n",
    "style.use('fivethirtyeight')\n",
    "sns.set(style='whitegrid',color_codes=True)\n",
    "\n",
    "print('Tensorflow: ',tf.version.VERSION)\n",
    "print('Keras: ', tf.keras.__version__)\n",
    "SEED = 2019\n",
    "tf.random.set_seed(SEED)"
   ]
  },
  {
   "cell_type": "markdown",
   "metadata": {},
   "source": [
    "### Dataset"
   ]
  },
  {
   "cell_type": "markdown",
   "metadata": {},
   "source": [
    "The HAM10000 dataset consists of 10015 dermatoscopic images which can serve as a training set for academic machine learning purposes. Cases include a representative collection of all important diagnostic categories in the realm of pigmented lesions: Actinic keratoses and intraepithelial carcinoma / Bowen's disease (akiec), basal cell carcinoma (bcc), benign keratosis-like lesions (solar lentigines / seborrheic keratoses and lichen-planus like keratoses, bkl), dermatofibroma (df), melanoma (mel), melanocytic nevi (nv) and vascular lesions (angiomas, angiokeratomas, pyogenic granulomas and hemorrhage, vasc).\n",
    "\n",
    "More than 50% of lesions are confirmed through histopathology (histo), the ground truth for the rest of the cases is either follow-up examination (follow_up), expert consensus (consensus), or confirmation by in-vivo confocal microscopy (confocal). The dataset includes lesions with multiple images, which can be tracked by the lesion_id-column within the HAM10000_metadata file."
   ]
  },
  {
   "cell_type": "markdown",
   "metadata": {
    "_uuid": "4ae8d37fdee293aaffa71a79019dd7277f8288fc"
   },
   "source": [
    "### Create stratified train, validation and test sets"
   ]
  },
  {
   "cell_type": "markdown",
   "metadata": {},
   "source": [
    "We have 7 classes, 10015 images and 7470 cases. Some cases have several images. We would make stratified split preserving class structure. Also we would preserve structure regarding to image count per case."
   ]
  },
  {
   "cell_type": "code",
   "execution_count": 4,
   "metadata": {
    "_uuid": "268503398ef61904e05a2c0b0667d589f08a19a8"
   },
   "outputs": [
    {
     "data": {
      "text/html": [
       "<div>\n",
       "<style scoped>\n",
       "    .dataframe tbody tr th:only-of-type {\n",
       "        vertical-align: middle;\n",
       "    }\n",
       "\n",
       "    .dataframe tbody tr th {\n",
       "        vertical-align: top;\n",
       "    }\n",
       "\n",
       "    .dataframe thead th {\n",
       "        text-align: right;\n",
       "    }\n",
       "</style>\n",
       "<table border=\"1\" class=\"dataframe\">\n",
       "  <thead>\n",
       "    <tr style=\"text-align: right;\">\n",
       "      <th></th>\n",
       "      <th>lesion_id</th>\n",
       "      <th>image_id</th>\n",
       "      <th>label</th>\n",
       "      <th>dx_type</th>\n",
       "      <th>age</th>\n",
       "      <th>sex</th>\n",
       "      <th>localization</th>\n",
       "    </tr>\n",
       "  </thead>\n",
       "  <tbody>\n",
       "    <tr>\n",
       "      <td>9187</td>\n",
       "      <td>HAM_0000000</td>\n",
       "      <td>ISIC_0028498</td>\n",
       "      <td>nv</td>\n",
       "      <td>histo</td>\n",
       "      <td>60.0</td>\n",
       "      <td>male</td>\n",
       "      <td>back</td>\n",
       "    </tr>\n",
       "    <tr>\n",
       "      <td>9188</td>\n",
       "      <td>HAM_0000000</td>\n",
       "      <td>ISIC_0025346</td>\n",
       "      <td>nv</td>\n",
       "      <td>histo</td>\n",
       "      <td>60.0</td>\n",
       "      <td>male</td>\n",
       "      <td>back</td>\n",
       "    </tr>\n",
       "    <tr>\n",
       "      <td>726</td>\n",
       "      <td>HAM_0000001</td>\n",
       "      <td>ISIC_0027859</td>\n",
       "      <td>bkl</td>\n",
       "      <td>histo</td>\n",
       "      <td>70.0</td>\n",
       "      <td>female</td>\n",
       "      <td>face</td>\n",
       "    </tr>\n",
       "    <tr>\n",
       "      <td>1661</td>\n",
       "      <td>HAM_0000002</td>\n",
       "      <td>ISIC_0032622</td>\n",
       "      <td>mel</td>\n",
       "      <td>histo</td>\n",
       "      <td>65.0</td>\n",
       "      <td>female</td>\n",
       "      <td>lower extremity</td>\n",
       "    </tr>\n",
       "    <tr>\n",
       "      <td>1660</td>\n",
       "      <td>HAM_0000002</td>\n",
       "      <td>ISIC_0033848</td>\n",
       "      <td>mel</td>\n",
       "      <td>histo</td>\n",
       "      <td>65.0</td>\n",
       "      <td>female</td>\n",
       "      <td>lower extremity</td>\n",
       "    </tr>\n",
       "  </tbody>\n",
       "</table>\n",
       "</div>"
      ],
      "text/plain": [
       "        lesion_id      image_id label dx_type   age     sex     localization\n",
       "9187  HAM_0000000  ISIC_0028498    nv   histo  60.0    male             back\n",
       "9188  HAM_0000000  ISIC_0025346    nv   histo  60.0    male             back\n",
       "726   HAM_0000001  ISIC_0027859   bkl   histo  70.0  female             face\n",
       "1661  HAM_0000002  ISIC_0032622   mel   histo  65.0  female  lower extremity\n",
       "1660  HAM_0000002  ISIC_0033848   mel   histo  65.0  female  lower extremity"
      ]
     },
     "metadata": {},
     "output_type": "display_data"
    },
    {
     "data": {
      "text/plain": [
       "nv       6705\n",
       "mel      1113\n",
       "bkl      1099\n",
       "bcc       514\n",
       "akiec     327\n",
       "vasc      142\n",
       "df        115\n",
       "Name: label, dtype: int64"
      ]
     },
     "metadata": {},
     "output_type": "display_data"
    }
   ],
   "source": [
    "#load metadata and rename label column\n",
    "df = pd.read_csv('./input/HAM10000_metadata.csv')\n",
    "df = df.rename(columns={\"dx\": \"label\"})\n",
    "display(df.sort_values(by=['lesion_id']).head())\n",
    "display(df['label'].value_counts())"
   ]
  },
  {
   "cell_type": "code",
   "execution_count": 5,
   "metadata": {},
   "outputs": [
    {
     "data": {
      "text/html": [
       "<div>\n",
       "<style scoped>\n",
       "    .dataframe tbody tr th:only-of-type {\n",
       "        vertical-align: middle;\n",
       "    }\n",
       "\n",
       "    .dataframe tbody tr th {\n",
       "        vertical-align: top;\n",
       "    }\n",
       "\n",
       "    .dataframe thead th {\n",
       "        text-align: right;\n",
       "    }\n",
       "</style>\n",
       "<table border=\"1\" class=\"dataframe\">\n",
       "  <thead>\n",
       "    <tr style=\"text-align: right;\">\n",
       "      <th></th>\n",
       "      <th>image_count</th>\n",
       "    </tr>\n",
       "    <tr>\n",
       "      <th>labels_with_count</th>\n",
       "      <th></th>\n",
       "    </tr>\n",
       "  </thead>\n",
       "  <tbody>\n",
       "    <tr>\n",
       "      <td>akiec1</td>\n",
       "      <td>151</td>\n",
       "    </tr>\n",
       "    <tr>\n",
       "      <td>akiec2</td>\n",
       "      <td>57</td>\n",
       "    </tr>\n",
       "    <tr>\n",
       "      <td>akiec3</td>\n",
       "      <td>18</td>\n",
       "    </tr>\n",
       "    <tr>\n",
       "      <td>akiec4</td>\n",
       "      <td>2</td>\n",
       "    </tr>\n",
       "    <tr>\n",
       "      <td>bcc1</td>\n",
       "      <td>175</td>\n",
       "    </tr>\n",
       "    <tr>\n",
       "      <td>bcc2</td>\n",
       "      <td>118</td>\n",
       "    </tr>\n",
       "    <tr>\n",
       "      <td>bcc3</td>\n",
       "      <td>33</td>\n",
       "    </tr>\n",
       "    <tr>\n",
       "      <td>bcc4</td>\n",
       "      <td>1</td>\n",
       "    </tr>\n",
       "    <tr>\n",
       "      <td>bkl1</td>\n",
       "      <td>440</td>\n",
       "    </tr>\n",
       "    <tr>\n",
       "      <td>bkl2</td>\n",
       "      <td>220</td>\n",
       "    </tr>\n",
       "    <tr>\n",
       "      <td>bkl3</td>\n",
       "      <td>55</td>\n",
       "    </tr>\n",
       "    <tr>\n",
       "      <td>bkl4</td>\n",
       "      <td>8</td>\n",
       "    </tr>\n",
       "    <tr>\n",
       "      <td>bkl5</td>\n",
       "      <td>2</td>\n",
       "    </tr>\n",
       "    <tr>\n",
       "      <td>bkl6</td>\n",
       "      <td>2</td>\n",
       "    </tr>\n",
       "    <tr>\n",
       "      <td>df1</td>\n",
       "      <td>39</td>\n",
       "    </tr>\n",
       "    <tr>\n",
       "      <td>df2</td>\n",
       "      <td>26</td>\n",
       "    </tr>\n",
       "    <tr>\n",
       "      <td>df3</td>\n",
       "      <td>8</td>\n",
       "    </tr>\n",
       "    <tr>\n",
       "      <td>mel1</td>\n",
       "      <td>230</td>\n",
       "    </tr>\n",
       "    <tr>\n",
       "      <td>mel2</td>\n",
       "      <td>278</td>\n",
       "    </tr>\n",
       "    <tr>\n",
       "      <td>mel3</td>\n",
       "      <td>100</td>\n",
       "    </tr>\n",
       "    <tr>\n",
       "      <td>mel4</td>\n",
       "      <td>4</td>\n",
       "    </tr>\n",
       "    <tr>\n",
       "      <td>mel5</td>\n",
       "      <td>1</td>\n",
       "    </tr>\n",
       "    <tr>\n",
       "      <td>mel6</td>\n",
       "      <td>1</td>\n",
       "    </tr>\n",
       "    <tr>\n",
       "      <td>nv1</td>\n",
       "      <td>4415</td>\n",
       "    </tr>\n",
       "    <tr>\n",
       "      <td>nv2</td>\n",
       "      <td>699</td>\n",
       "    </tr>\n",
       "    <tr>\n",
       "      <td>nv3</td>\n",
       "      <td>268</td>\n",
       "    </tr>\n",
       "    <tr>\n",
       "      <td>nv4</td>\n",
       "      <td>18</td>\n",
       "    </tr>\n",
       "    <tr>\n",
       "      <td>nv5</td>\n",
       "      <td>2</td>\n",
       "    </tr>\n",
       "    <tr>\n",
       "      <td>nv6</td>\n",
       "      <td>1</td>\n",
       "    </tr>\n",
       "    <tr>\n",
       "      <td>vasc1</td>\n",
       "      <td>64</td>\n",
       "    </tr>\n",
       "    <tr>\n",
       "      <td>vasc2</td>\n",
       "      <td>25</td>\n",
       "    </tr>\n",
       "    <tr>\n",
       "      <td>vasc3</td>\n",
       "      <td>8</td>\n",
       "    </tr>\n",
       "    <tr>\n",
       "      <td>vasc4</td>\n",
       "      <td>1</td>\n",
       "    </tr>\n",
       "  </tbody>\n",
       "</table>\n",
       "</div>"
      ],
      "text/plain": [
       "                   image_count\n",
       "labels_with_count             \n",
       "akiec1                     151\n",
       "akiec2                      57\n",
       "akiec3                      18\n",
       "akiec4                       2\n",
       "bcc1                       175\n",
       "bcc2                       118\n",
       "bcc3                        33\n",
       "bcc4                         1\n",
       "bkl1                       440\n",
       "bkl2                       220\n",
       "bkl3                        55\n",
       "bkl4                         8\n",
       "bkl5                         2\n",
       "bkl6                         2\n",
       "df1                         39\n",
       "df2                         26\n",
       "df3                          8\n",
       "mel1                       230\n",
       "mel2                       278\n",
       "mel3                       100\n",
       "mel4                         4\n",
       "mel5                         1\n",
       "mel6                         1\n",
       "nv1                       4415\n",
       "nv2                        699\n",
       "nv3                        268\n",
       "nv4                         18\n",
       "nv5                          2\n",
       "nv6                          1\n",
       "vasc1                       64\n",
       "vasc2                       25\n",
       "vasc3                        8\n",
       "vasc4                        1"
      ]
     },
     "metadata": {},
     "output_type": "display_data"
    }
   ],
   "source": [
    "#constructing columns to capture label's image-count structure\n",
    "image_count = df.groupby(\"lesion_id\").agg(image_count=pd.NamedAgg(column='image_id', aggfunc='count'),\n",
    "                                         label=pd.NamedAgg(column='label', aggfunc='last')).reset_index()\n",
    "image_count['labels_with_count'] = image_count['label'] + image_count['image_count'].astype(str)\n",
    "display(pd.DataFrame(image_count.groupby('labels_with_count').count()['image_count']))"
   ]
  },
  {
   "cell_type": "markdown",
   "metadata": {},
   "source": [
    "We're goin to split for train,validation,test subsets as 80%, 10%, 10%. Therefore a group should have minimum 10 images to be splittable.  We have to merge groups with image count below 10"
   ]
  },
  {
   "cell_type": "code",
   "execution_count": 6,
   "metadata": {},
   "outputs": [
    {
     "data": {
      "text/html": [
       "<div>\n",
       "<style scoped>\n",
       "    .dataframe tbody tr th:only-of-type {\n",
       "        vertical-align: middle;\n",
       "    }\n",
       "\n",
       "    .dataframe tbody tr th {\n",
       "        vertical-align: top;\n",
       "    }\n",
       "\n",
       "    .dataframe thead th {\n",
       "        text-align: right;\n",
       "    }\n",
       "</style>\n",
       "<table border=\"1\" class=\"dataframe\">\n",
       "  <thead>\n",
       "    <tr style=\"text-align: right;\">\n",
       "      <th></th>\n",
       "      <th>image_count</th>\n",
       "    </tr>\n",
       "    <tr>\n",
       "      <th>labels_with_count</th>\n",
       "      <th></th>\n",
       "    </tr>\n",
       "  </thead>\n",
       "  <tbody>\n",
       "    <tr>\n",
       "      <td>akiec1</td>\n",
       "      <td>151</td>\n",
       "    </tr>\n",
       "    <tr>\n",
       "      <td>akiec2</td>\n",
       "      <td>57</td>\n",
       "    </tr>\n",
       "    <tr>\n",
       "      <td>akiec3</td>\n",
       "      <td>20</td>\n",
       "    </tr>\n",
       "    <tr>\n",
       "      <td>bcc1</td>\n",
       "      <td>175</td>\n",
       "    </tr>\n",
       "    <tr>\n",
       "      <td>bcc2</td>\n",
       "      <td>118</td>\n",
       "    </tr>\n",
       "    <tr>\n",
       "      <td>bcc3</td>\n",
       "      <td>34</td>\n",
       "    </tr>\n",
       "    <tr>\n",
       "      <td>bkl1</td>\n",
       "      <td>440</td>\n",
       "    </tr>\n",
       "    <tr>\n",
       "      <td>bkl2</td>\n",
       "      <td>220</td>\n",
       "    </tr>\n",
       "    <tr>\n",
       "      <td>bkl3</td>\n",
       "      <td>55</td>\n",
       "    </tr>\n",
       "    <tr>\n",
       "      <td>bkl4</td>\n",
       "      <td>12</td>\n",
       "    </tr>\n",
       "    <tr>\n",
       "      <td>df1</td>\n",
       "      <td>39</td>\n",
       "    </tr>\n",
       "    <tr>\n",
       "      <td>df2</td>\n",
       "      <td>26</td>\n",
       "    </tr>\n",
       "    <tr>\n",
       "      <td>df3</td>\n",
       "      <td>8</td>\n",
       "    </tr>\n",
       "    <tr>\n",
       "      <td>mel1</td>\n",
       "      <td>230</td>\n",
       "    </tr>\n",
       "    <tr>\n",
       "      <td>mel2</td>\n",
       "      <td>278</td>\n",
       "    </tr>\n",
       "    <tr>\n",
       "      <td>mel3</td>\n",
       "      <td>106</td>\n",
       "    </tr>\n",
       "    <tr>\n",
       "      <td>nv1</td>\n",
       "      <td>4415</td>\n",
       "    </tr>\n",
       "    <tr>\n",
       "      <td>nv2</td>\n",
       "      <td>699</td>\n",
       "    </tr>\n",
       "    <tr>\n",
       "      <td>nv3</td>\n",
       "      <td>268</td>\n",
       "    </tr>\n",
       "    <tr>\n",
       "      <td>nv4</td>\n",
       "      <td>21</td>\n",
       "    </tr>\n",
       "    <tr>\n",
       "      <td>vasc1</td>\n",
       "      <td>64</td>\n",
       "    </tr>\n",
       "    <tr>\n",
       "      <td>vasc2</td>\n",
       "      <td>25</td>\n",
       "    </tr>\n",
       "    <tr>\n",
       "      <td>vasc3</td>\n",
       "      <td>9</td>\n",
       "    </tr>\n",
       "  </tbody>\n",
       "</table>\n",
       "</div>"
      ],
      "text/plain": [
       "                   image_count\n",
       "labels_with_count             \n",
       "akiec1                     151\n",
       "akiec2                      57\n",
       "akiec3                      20\n",
       "bcc1                       175\n",
       "bcc2                       118\n",
       "bcc3                        34\n",
       "bkl1                       440\n",
       "bkl2                       220\n",
       "bkl3                        55\n",
       "bkl4                        12\n",
       "df1                         39\n",
       "df2                         26\n",
       "df3                          8\n",
       "mel1                       230\n",
       "mel2                       278\n",
       "mel3                       106\n",
       "nv1                       4415\n",
       "nv2                        699\n",
       "nv3                        268\n",
       "nv4                         21\n",
       "vasc1                       64\n",
       "vasc2                       25\n",
       "vasc3                        9"
      ]
     },
     "metadata": {},
     "output_type": "display_data"
    }
   ],
   "source": [
    "image_count.loc[image_count['labels_with_count'] == 'akiec4', 'labels_with_count'] = 'akiec3'\n",
    "image_count.loc[image_count['labels_with_count'] == 'bcc4', 'labels_with_count'] = 'bcc3'\n",
    "image_count.loc[image_count['labels_with_count'] == 'bkl5', 'labels_with_count'] = 'bkl4'\n",
    "image_count.loc[image_count['labels_with_count'] == 'bkl6', 'labels_with_count'] = 'bkl4'\n",
    "image_count.loc[image_count['labels_with_count'] == 'mel4', 'labels_with_count'] = 'mel3'\n",
    "image_count.loc[image_count['labels_with_count'] == 'mel5', 'labels_with_count'] = 'mel3'\n",
    "image_count.loc[image_count['labels_with_count'] == 'mel6', 'labels_with_count'] = 'mel3'\n",
    "image_count.loc[image_count['labels_with_count'] == 'nv5', 'labels_with_count'] = 'nv4'\n",
    "image_count.loc[image_count['labels_with_count'] == 'nv6', 'labels_with_count'] = 'nv4'\n",
    "image_count.loc[image_count['labels_with_count'] == 'vasc4', 'labels_with_count'] = 'vasc3'\n",
    "\n",
    "display(pd.DataFrame(image_count.groupby('labels_with_count').count()['image_count']))"
   ]
  },
  {
   "cell_type": "markdown",
   "metadata": {},
   "source": [
    "Now we can actually do the split for for train, validation and test sets. Note, that we are splitting the cases, not the images as if done otherwise there might be a data leakage.\n"
   ]
  },
  {
   "cell_type": "code",
   "execution_count": 7,
   "metadata": {},
   "outputs": [
    {
     "name": "stdout",
     "output_type": "stream",
     "text": [
      "train: 5976\n",
      "validation: 747\n",
      "test: 747\n"
     ]
    },
    {
     "data": {
      "text/html": [
       "<div>\n",
       "<style scoped>\n",
       "    .dataframe tbody tr th:only-of-type {\n",
       "        vertical-align: middle;\n",
       "    }\n",
       "\n",
       "    .dataframe tbody tr th {\n",
       "        vertical-align: top;\n",
       "    }\n",
       "\n",
       "    .dataframe thead th {\n",
       "        text-align: right;\n",
       "    }\n",
       "</style>\n",
       "<table border=\"1\" class=\"dataframe\">\n",
       "  <thead>\n",
       "    <tr style=\"text-align: right;\">\n",
       "      <th></th>\n",
       "      <th>lesion_id</th>\n",
       "      <th>image_id</th>\n",
       "      <th>label</th>\n",
       "      <th>dx_type</th>\n",
       "      <th>age</th>\n",
       "      <th>sex</th>\n",
       "      <th>localization</th>\n",
       "      <th>subset</th>\n",
       "    </tr>\n",
       "  </thead>\n",
       "  <tbody>\n",
       "    <tr>\n",
       "      <td>0</td>\n",
       "      <td>HAM_0000118</td>\n",
       "      <td>ISIC_0027419</td>\n",
       "      <td>bkl</td>\n",
       "      <td>histo</td>\n",
       "      <td>80.0</td>\n",
       "      <td>male</td>\n",
       "      <td>scalp</td>\n",
       "      <td>test</td>\n",
       "    </tr>\n",
       "    <tr>\n",
       "      <td>1</td>\n",
       "      <td>HAM_0000118</td>\n",
       "      <td>ISIC_0025030</td>\n",
       "      <td>bkl</td>\n",
       "      <td>histo</td>\n",
       "      <td>80.0</td>\n",
       "      <td>male</td>\n",
       "      <td>scalp</td>\n",
       "      <td>test</td>\n",
       "    </tr>\n",
       "    <tr>\n",
       "      <td>2</td>\n",
       "      <td>HAM_0002730</td>\n",
       "      <td>ISIC_0026769</td>\n",
       "      <td>bkl</td>\n",
       "      <td>histo</td>\n",
       "      <td>80.0</td>\n",
       "      <td>male</td>\n",
       "      <td>scalp</td>\n",
       "      <td>train</td>\n",
       "    </tr>\n",
       "    <tr>\n",
       "      <td>3</td>\n",
       "      <td>HAM_0002730</td>\n",
       "      <td>ISIC_0025661</td>\n",
       "      <td>bkl</td>\n",
       "      <td>histo</td>\n",
       "      <td>80.0</td>\n",
       "      <td>male</td>\n",
       "      <td>scalp</td>\n",
       "      <td>train</td>\n",
       "    </tr>\n",
       "    <tr>\n",
       "      <td>4</td>\n",
       "      <td>HAM_0001466</td>\n",
       "      <td>ISIC_0031633</td>\n",
       "      <td>bkl</td>\n",
       "      <td>histo</td>\n",
       "      <td>75.0</td>\n",
       "      <td>male</td>\n",
       "      <td>ear</td>\n",
       "      <td>train</td>\n",
       "    </tr>\n",
       "    <tr>\n",
       "      <td>...</td>\n",
       "      <td>...</td>\n",
       "      <td>...</td>\n",
       "      <td>...</td>\n",
       "      <td>...</td>\n",
       "      <td>...</td>\n",
       "      <td>...</td>\n",
       "      <td>...</td>\n",
       "      <td>...</td>\n",
       "    </tr>\n",
       "    <tr>\n",
       "      <td>10010</td>\n",
       "      <td>HAM_0005579</td>\n",
       "      <td>ISIC_0028393</td>\n",
       "      <td>akiec</td>\n",
       "      <td>histo</td>\n",
       "      <td>80.0</td>\n",
       "      <td>male</td>\n",
       "      <td>face</td>\n",
       "      <td>train</td>\n",
       "    </tr>\n",
       "    <tr>\n",
       "      <td>10011</td>\n",
       "      <td>HAM_0001576</td>\n",
       "      <td>ISIC_0033705</td>\n",
       "      <td>akiec</td>\n",
       "      <td>histo</td>\n",
       "      <td>60.0</td>\n",
       "      <td>male</td>\n",
       "      <td>face</td>\n",
       "      <td>train</td>\n",
       "    </tr>\n",
       "    <tr>\n",
       "      <td>10012</td>\n",
       "      <td>HAM_0002867</td>\n",
       "      <td>ISIC_0033084</td>\n",
       "      <td>akiec</td>\n",
       "      <td>histo</td>\n",
       "      <td>40.0</td>\n",
       "      <td>male</td>\n",
       "      <td>abdomen</td>\n",
       "      <td>train</td>\n",
       "    </tr>\n",
       "    <tr>\n",
       "      <td>10013</td>\n",
       "      <td>HAM_0002867</td>\n",
       "      <td>ISIC_0033550</td>\n",
       "      <td>akiec</td>\n",
       "      <td>histo</td>\n",
       "      <td>40.0</td>\n",
       "      <td>male</td>\n",
       "      <td>abdomen</td>\n",
       "      <td>train</td>\n",
       "    </tr>\n",
       "    <tr>\n",
       "      <td>10014</td>\n",
       "      <td>HAM_0002867</td>\n",
       "      <td>ISIC_0033536</td>\n",
       "      <td>akiec</td>\n",
       "      <td>histo</td>\n",
       "      <td>40.0</td>\n",
       "      <td>male</td>\n",
       "      <td>abdomen</td>\n",
       "      <td>train</td>\n",
       "    </tr>\n",
       "  </tbody>\n",
       "</table>\n",
       "<p>10015 rows × 8 columns</p>\n",
       "</div>"
      ],
      "text/plain": [
       "         lesion_id      image_id  label dx_type   age   sex localization  \\\n",
       "0      HAM_0000118  ISIC_0027419    bkl   histo  80.0  male        scalp   \n",
       "1      HAM_0000118  ISIC_0025030    bkl   histo  80.0  male        scalp   \n",
       "2      HAM_0002730  ISIC_0026769    bkl   histo  80.0  male        scalp   \n",
       "3      HAM_0002730  ISIC_0025661    bkl   histo  80.0  male        scalp   \n",
       "4      HAM_0001466  ISIC_0031633    bkl   histo  75.0  male          ear   \n",
       "...            ...           ...    ...     ...   ...   ...          ...   \n",
       "10010  HAM_0005579  ISIC_0028393  akiec   histo  80.0  male         face   \n",
       "10011  HAM_0001576  ISIC_0033705  akiec   histo  60.0  male         face   \n",
       "10012  HAM_0002867  ISIC_0033084  akiec   histo  40.0  male      abdomen   \n",
       "10013  HAM_0002867  ISIC_0033550  akiec   histo  40.0  male      abdomen   \n",
       "10014  HAM_0002867  ISIC_0033536  akiec   histo  40.0  male      abdomen   \n",
       "\n",
       "      subset  \n",
       "0       test  \n",
       "1       test  \n",
       "2      train  \n",
       "3      train  \n",
       "4      train  \n",
       "...      ...  \n",
       "10010  train  \n",
       "10011  train  \n",
       "10012  train  \n",
       "10013  train  \n",
       "10014  train  \n",
       "\n",
       "[10015 rows x 8 columns]"
      ]
     },
     "execution_count": 7,
     "metadata": {},
     "output_type": "execute_result"
    }
   ],
   "source": [
    "train_set, validation_and_test_set = train_test_split(image_count, test_size=0.2, random_state=SEED, stratify=image_count['labels_with_count'])\n",
    "validation_set, test_set = train_test_split(validation_and_test_set, test_size=0.5, random_state=SEED, stratify=validation_and_test_set['labels_with_count'])\n",
    "\n",
    "train_set = train_set.assign(subset='train')\n",
    "validation_set = validation_set.assign(subset='validation')\n",
    "test_set = test_set.assign(subset='test')\n",
    "\n",
    "for subset in [train_set, validation_set, test_set]:\n",
    "    print(subset['subset'].iloc[0], subset.shape[0], sep=': ')\n",
    "    \n",
    "dataset = pd.concat([train_set, validation_set, test_set])\n",
    "df = pd.merge(df, dataset[['lesion_id','subset']], on='lesion_id')\n",
    "df"
   ]
  },
  {
   "cell_type": "markdown",
   "metadata": {},
   "source": [
    "Data is highly unbalanced as can be seen in class distribution of train set. There are diffrent ways to deal with imblanced data. One way is to oversample the data. We used oversampling to balance the data appling random augmentations( flips, brighness, saturation) and random crop to images. But that approach doesn't give any significant increase is validation metrics. The second approach is to use class weights for loss function and metrics calculations. We used the second one as our final approach."
   ]
  },
  {
   "cell_type": "code",
   "execution_count": 8,
   "metadata": {},
   "outputs": [
    {
     "data": {
      "text/html": [
       "<div>\n",
       "<style scoped>\n",
       "    .dataframe tbody tr th:only-of-type {\n",
       "        vertical-align: middle;\n",
       "    }\n",
       "\n",
       "    .dataframe tbody tr th {\n",
       "        vertical-align: top;\n",
       "    }\n",
       "\n",
       "    .dataframe thead th {\n",
       "        text-align: right;\n",
       "    }\n",
       "</style>\n",
       "<table border=\"1\" class=\"dataframe\">\n",
       "  <thead>\n",
       "    <tr style=\"text-align: right;\">\n",
       "      <th></th>\n",
       "      <th>count</th>\n",
       "    </tr>\n",
       "    <tr>\n",
       "      <th>label</th>\n",
       "      <th></th>\n",
       "    </tr>\n",
       "  </thead>\n",
       "  <tbody>\n",
       "    <tr>\n",
       "      <td>akiec</td>\n",
       "      <td>262</td>\n",
       "    </tr>\n",
       "    <tr>\n",
       "      <td>bcc</td>\n",
       "      <td>410</td>\n",
       "    </tr>\n",
       "    <tr>\n",
       "      <td>bkl</td>\n",
       "      <td>882</td>\n",
       "    </tr>\n",
       "    <tr>\n",
       "      <td>df</td>\n",
       "      <td>91</td>\n",
       "    </tr>\n",
       "    <tr>\n",
       "      <td>mel</td>\n",
       "      <td>889</td>\n",
       "    </tr>\n",
       "    <tr>\n",
       "      <td>nv</td>\n",
       "      <td>5366</td>\n",
       "    </tr>\n",
       "    <tr>\n",
       "      <td>vasc</td>\n",
       "      <td>113</td>\n",
       "    </tr>\n",
       "  </tbody>\n",
       "</table>\n",
       "</div>"
      ],
      "text/plain": [
       "       count\n",
       "label       \n",
       "akiec    262\n",
       "bcc      410\n",
       "bkl      882\n",
       "df        91\n",
       "mel      889\n",
       "nv      5366\n",
       "vasc     113"
      ]
     },
     "execution_count": 8,
     "metadata": {},
     "output_type": "execute_result"
    }
   ],
   "source": [
    "df.loc[df['subset'] == 'train',['image_id','label']].groupby(\"label\").agg(count=pd.NamedAgg(column='image_id', aggfunc='count'))"
   ]
  },
  {
   "cell_type": "markdown",
   "metadata": {
    "_uuid": "c46ea5967e095d31dcf144b6f57f0343878fa432"
   },
   "source": [
    "### Manage files structure"
   ]
  },
  {
   "cell_type": "markdown",
   "metadata": {},
   "source": [
    "In order to use Keras's ImageGenerator and flow method, we need to create directories structure with top level dirs as train, validation, test and sub-directories with labels names."
   ]
  },
  {
   "cell_type": "code",
   "execution_count": 9,
   "metadata": {},
   "outputs": [
    {
     "data": {
      "text/plain": [
       "['akiec', 'bcc', 'bkl', 'df', 'mel', 'nv', 'vasc']"
      ]
     },
     "execution_count": 9,
     "metadata": {},
     "output_type": "execute_result"
    }
   ],
   "source": [
    "PATH = \"./dataset_small/\"\n",
    "SIZE = 450 # we are setting input size to 450 as the images has 600 × 450 size.\n",
    "CREATE_STRUCTURE = False if os.path.exists(PATH) else True\n",
    "TRAIN_DATA_DIR = os.path.join(PATH,'train')\n",
    "VALIDATION_DATA_DIR = os.path.join(PATH,'validation')\n",
    "TEST_DATA_DIR = os.path.join(PATH,'test')\n",
    "\n",
    "#get labels\n",
    "labels = df.groupby('label').last().index.tolist()\n",
    "labels"
   ]
  },
  {
   "cell_type": "markdown",
   "metadata": {},
   "source": [
    "Testing random croping, central croping and different augmentations we come to conclusion, that only cetnral crop makes sense in terms of model metrics improvment.\n",
    "One of the limitations of using Keras's ImageDataGenerator is that preprocess function(even custom one) is applied only after resizing. Therefore we cannot make central crop as preprocess function. Instead we would make central crop while sorting dataset."
   ]
  },
  {
   "cell_type": "code",
   "execution_count": 10,
   "metadata": {},
   "outputs": [],
   "source": [
    "def central_crop(image):\n",
    "    crop_1 = int((600-SIZE)/2)\n",
    "    crop_2 = int((450-SIZE)/2)\n",
    "    if image.shape[0]==600:\n",
    "        return image[crop_1:-crop_1,crop_2:450 if crop_2==0 else -crop_2,:]\n",
    "    else:\n",
    "        return image[crop_2:450 if crop_2==0 else -crop_2,crop_1:-crop_1,:]"
   ]
  },
  {
   "cell_type": "code",
   "execution_count": 11,
   "metadata": {},
   "outputs": [],
   "source": [
    "#creating dir structure\n",
    "if CREATE_STRUCTURE:\n",
    "    def mkdir(path):\n",
    "        if not os.path.exists(path):\n",
    "            os.mkdir(path)\n",
    "    mkdir(PATH)\n",
    "    for DIR in [TRAIN_DATA_DIR,VALIDATION_DATA_DIR,TEST_DATA_DIR]:\n",
    "        mkdir(DIR)\n",
    "        for label in labels:\n",
    "            mkdir(os.path.join(DIR,label))\n",
    "\n",
    "    #move all images to ./dataset directory\n",
    "    for sub_dir in ['HAM10000_images_part_1','HAM10000_images_part_2']:\n",
    "        for image in os.listdir(os.path.join('input',sub_dir)):\n",
    "            source = os.path.join('input',sub_dir,image)\n",
    "            destination = os.path.join(PATH,image)\n",
    "            if PATH=='./dataset/':\n",
    "                shutil.copy(source,destination)\n",
    "            else:\n",
    "                img = tf.io.read_file(source)\n",
    "                img = tf.io.decode_jpeg(img, dct_method='INTEGER_ACCURATE')\n",
    "                img = central_crop(img)\n",
    "                img = tf.io.encode_jpeg(img, quality=100, chroma_downsampling=False)\n",
    "                tf.io.write_file(destination, img)\n",
    "                \n",
    "    #move images to corresponding directories\n",
    "    for index, image in df.iterrows():\n",
    "        source = os.path.join(PATH,image['image_id']) + '.jpg'\n",
    "        destination = os.path.join(PATH,image['subset'], image['label'])\n",
    "        shutil.move(source,destination)\n"
   ]
  },
  {
   "cell_type": "markdown",
   "metadata": {},
   "source": [
    "### Preprocess functions ###"
   ]
  },
  {
   "cell_type": "markdown",
   "metadata": {},
   "source": [
    "Here we want to setup Keras ImageDataGenerators for the model training. Also we would like to subtract the per-channel training set mean from the images. To implement this, we need to provide that mean for ImageDataGenerator. To do so we need to manually load all train subset and calculate the mean. We need to do this operation only once as later we can just use the mean vector. \n",
    "\n",
    "The one thing to notice is that ImageDataGenerator's standardize method first applies preprocessing_function and after subtract mean. Therefore we need to calculate mean on the dataset preprocessed with the same preprocessing_function as used in ImageDataGenerator."
   ]
  },
  {
   "cell_type": "code",
   "execution_count": 12,
   "metadata": {},
   "outputs": [],
   "source": [
    "def shade_of_grey(img):\n",
    "    \"\"\"\n",
    "    Implementation for shade of grey algorithm as proposed in:\n",
    "    Graham D. Finlayson and Elisabetta Trezzi\n",
    "    \"Shades of Gray and Colour Constancy\", 2004\n",
    "    Estimates the light source of an input_image and corrects image \n",
    "    colors by performing diagonal transformation according to \n",
    "    given estimated illumination of the image.\n",
    "    :param img: rgb input image (NxMx3)\n",
    "    :return: corrected image\n",
    "    \"\"\"\n",
    "    \n",
    "    deriv_image = img.copy()\n",
    "    \n",
    "    # remove saturated pixels in input image\n",
    "    deriv_image[deriv_image >= 255] = 0\n",
    "    # estimate illuminations\n",
    "    mink_norm = 6 #Minkowski norm, can adjusted as parametr.\n",
    "    illum = ((deriv_image.astype(np.uint64) ** mink_norm).sum(axis=(0,1))) ** (1/mink_norm)\n",
    "    # normalize estimated illumination\n",
    "    som = np.linalg.norm(illum)\n",
    "    illum /= som\n",
    "    correcting_illum = illum * np.sqrt(3) \n",
    "    #correct image\n",
    "    img = img.astype(float) / (illum * np.sqrt(3))\n",
    "    \n",
    "    return np.around(img).astype(np.uint16)"
   ]
  },
  {
   "cell_type": "code",
   "execution_count": 13,
   "metadata": {},
   "outputs": [],
   "source": [
    "def custom_preprocess(image):\n",
    "#     mean =  [0.75708639, 0.56659932, 0.59902178] # balanced dataset\n",
    "#     std =  [0.13877631, 0.15493133, 0.16716208] # balanced dataset\n",
    "#     mean =  [0.76413945, 0.53801809, 0.56173534] #no shade of gray\n",
    "#     std =  [0.13831915, 0.15890724, 0.17760346] #no shade of gray\n",
    "    mean =  [0.70010796, 0.59071487, 0.58644372] #shade of gray\n",
    "    std =  [0.17023377, 0.16380622, 0.17671748] #shade of gray\n",
    "    \n",
    "    image = shade_of_grey(image).astype(np.float32)\n",
    "    image = image.astype(np.float32)\n",
    "    image /= 255.\n",
    "    image -= mean\n",
    "    image /= std\n",
    "    \n",
    "\n",
    "    return image\n"
   ]
  },
  {
   "cell_type": "markdown",
   "metadata": {
    "_uuid": "32dad10b7c104d2baa972da8cbadc7d6038af05c"
   },
   "source": [
    "### Generators setup ###"
   ]
  },
  {
   "cell_type": "code",
   "execution_count": 19,
   "metadata": {},
   "outputs": [
    {
     "name": "stdout",
     "output_type": "stream",
     "text": [
      "Found 8013 images belonging to 7 classes.\n",
      "Found 1000 images belonging to 7 classes.\n",
      "Found 1002 images belonging to 7 classes.\n"
     ]
    }
   ],
   "source": [
    "BATCH_SIZE = 64 # batch size depends on your GPU's RAM memory, generally set as large as you can\n",
    "preprocess = custom_preprocess\n",
    "\n",
    "train_generator = ImageDataGenerator(horizontal_flip=True,\n",
    "                                     vertical_flip=True,\n",
    "                                     preprocessing_function=preprocess)\\\n",
    "                  .flow_from_directory(\n",
    "                  TRAIN_DATA_DIR,\n",
    "                  target_size=(SIZE, SIZE), \n",
    "                  batch_size=BATCH_SIZE, \n",
    "                  class_mode='categorical',seed=SEED,shuffle=True)\n",
    "\n",
    "\n",
    "validation_generator = ImageDataGenerator(preprocessing_function=preprocess)\\\n",
    "                       .flow_from_directory(\n",
    "                        VALIDATION_DATA_DIR,\n",
    "                        shuffle=False, \n",
    "                        target_size=(SIZE, SIZE),\n",
    "                        batch_size=BATCH_SIZE, \n",
    "                        class_mode='categorical',\n",
    "                        seed=SEED)\n",
    "\n",
    "\n",
    "\n",
    "test_generator = ImageDataGenerator(preprocessing_function=preprocess)\\\n",
    "                 .flow_from_directory(\n",
    "                 TEST_DATA_DIR,\n",
    "                 shuffle=False, \n",
    "                 target_size=(SIZE, SIZE),\n",
    "                 batch_size=BATCH_SIZE, \n",
    "                 class_mode='categorical',\n",
    "                 seed=SEED)"
   ]
  },
  {
   "cell_type": "code",
   "execution_count": 15,
   "metadata": {},
   "outputs": [
    {
     "name": "stdout",
     "output_type": "stream",
     "text": [
      "Found 8013 images belonging to 7 classes.\n",
      "# of images in each class:  Counter({5: 5366, 4: 889, 2: 882, 1: 410, 0: 262, 6: 113, 3: 91})\n",
      "class_weights:  {0: 20.480916030534353, 1: 13.08780487804878, 2: 6.083900226757369, 3: 58.967032967032964, 4: 6.0359955005624295, 5: 1.0, 6: 47.48672566371681}\n",
      "class_weights labeled:  {'akiec': 20.480916030534353, 'bcc': 13.08780487804878, 'bkl': 6.083900226757369, 'df': 58.967032967032964, 'mel': 6.0359955005624295, 'nv': 1.0, 'vasc': 47.48672566371681}\n",
      "largest_class:  {'index': 5, 'value': 5366, 'name': 'nv'}\n"
     ]
    }
   ],
   "source": [
    "#get class weights\n",
    "train_generator = ImageDataGenerator().flow_from_directory(TRAIN_DATA_DIR)\n",
    "\n",
    "counter = Counter(train_generator.classes)\n",
    "max_val = max(Counter(train_generator.classes).values())\n",
    "class_weights = {class_id : max_val/num_images for class_id, num_images in counter.items()}\n",
    "weights_labeled = { key:class_weights[value] for key,value in train_generator.class_indices.items()}\n",
    "\n",
    "largest_class = { 'index':  {v: k for k, v in class_weights.items()}[1.0] }\n",
    "largest_class['value'] = counter[largest_class['index']]\n",
    "largest_class['name'] = {v: k for k, v in train_generator.class_indices.items()}[largest_class['index']]\n",
    "\n",
    "print('# of images in each class: ', counter)\n",
    "print('class_weights: ', class_weights)\n",
    "print('class_weights labeled: ',weights_labeled)\n",
    "print('largest_class: ',largest_class)"
   ]
  },
  {
   "cell_type": "markdown",
   "metadata": {
    "_uuid": "8ee4ee41f1b16083bd9fc20ee9dec40acccc97dd"
   },
   "source": [
    "### Load and compile the model"
   ]
  },
  {
   "cell_type": "code",
   "execution_count": null,
   "metadata": {},
   "outputs": [
    {
     "name": "stderr",
     "output_type": "stream",
     "text": [
      "WARNING: Logging before flag parsing goes to stderr.\n",
      "W1020 14:10:37.107673 4632839616 nn_ops.py:4283] Large dropout rate: 0.5125 (>0.5). In TensorFlow 2.x, dropout() uses dropout rate instead of keep_prob. Please ensure that this is intended.\n",
      "W1020 14:10:37.574469 4632839616 nn_ops.py:4283] Large dropout rate: 0.5375 (>0.5). In TensorFlow 2.x, dropout() uses dropout rate instead of keep_prob. Please ensure that this is intended.\n",
      "W1020 14:10:37.749101 4632839616 nn_ops.py:4283] Large dropout rate: 0.55 (>0.5). In TensorFlow 2.x, dropout() uses dropout rate instead of keep_prob. Please ensure that this is intended.\n"
     ]
    }
   ],
   "source": [
    "tf.keras.backend.clear_session()\n",
    "session_dir = './EFnet6/'\n",
    "\n",
    "base_model =  EfficientNetB6(weights='imagenet', include_top=False, pooling='avg', input_shape=(SIZE, SIZE, 3))\n",
    "x = base_model.output\n",
    "x = Dropout(0.5)(x)\n",
    "predictions = Dense(7, activation='softmax')(x)\n",
    "model = Model(inputs=base_model.input, outputs=predictions)"
   ]
  },
  {
   "cell_type": "code",
   "execution_count": 16,
   "metadata": {},
   "outputs": [
    {
     "name": "stderr",
     "output_type": "stream",
     "text": [
      "WARNING: Logging before flag parsing goes to stderr.\n",
      "W1020 14:11:45.087090 4614792640 nn_ops.py:4283] Large dropout rate: 0.5125 (>0.5). In TensorFlow 2.x, dropout() uses dropout rate instead of keep_prob. Please ensure that this is intended.\n",
      "W1020 14:11:45.351089 4614792640 nn_ops.py:4283] Large dropout rate: 0.5375 (>0.5). In TensorFlow 2.x, dropout() uses dropout rate instead of keep_prob. Please ensure that this is intended.\n",
      "W1020 14:11:45.811285 4614792640 nn_ops.py:4283] Large dropout rate: 0.55 (>0.5). In TensorFlow 2.x, dropout() uses dropout rate instead of keep_prob. Please ensure that this is intended.\n"
     ]
    }
   ],
   "source": [
    "# # load checkpoins\n",
    "# session_dir = './'\n",
    "# filename = 'fine-tune-0.9426-0.9876-01-.hdf5'\n",
    "# model = tf.keras.models.load_model(session_dir + filename, custom_objects={'RectifiedAdam': RectifiedAdam})"
   ]
  },
  {
   "cell_type": "markdown",
   "metadata": {},
   "source": [
    "Firstly we're going to train only the last layer. After that is done we want to train all other layers, but there is a limitation due GPU's memory capacity. For that reason we find sutable batch_size and split layers in 4 parts. That will allow us to train each part of the layers independently. "
   ]
  },
  {
   "cell_type": "code",
   "execution_count": null,
   "metadata": {},
   "outputs": [],
   "source": [
    "# freezing all layers except last\n",
    "for layer in model.layers[-1:]:\n",
    "    layer.trainable=True"
   ]
  },
  {
   "cell_type": "code",
   "execution_count": null,
   "metadata": {},
   "outputs": [],
   "source": [
    "# # freezing layers by parts\n",
    "\n",
    "# freeze_window = len(model.layers) // 4\n",
    "\n",
    "# for layer in model.layers:\n",
    "#     layer.trainable=False\n",
    "# for layer in model.layers[3*freeze_window:4*freeze_window]:\n",
    "#     layer.trainable=True\n",
    "# for layer in model.layers[-1:]:\n",
    "#     layer.trainable=True\n",
    "    \n",
    "# for i, layer in enumerate(model.layers):\n",
    "#     if layer.trainable==True:\n",
    "#         print (i,'T',model.layers[i])"
   ]
  },
  {
   "cell_type": "markdown",
   "metadata": {},
   "source": [
    "Since classes are highly imbalanced, we would like to use such metrics as auc and account for weights of each class while calculating such metrics."
   ]
  },
  {
   "cell_type": "code",
   "execution_count": 17,
   "metadata": {},
   "outputs": [
    {
     "name": "stdout",
     "output_type": "stream",
     "text": [
      "['loss', 'auc', 'recall', 'precision', 'categorical_accuracy']\n"
     ]
    }
   ],
   "source": [
    "#setting metrics\n",
    "\n",
    "precision = tf.keras.metrics.Precision()\n",
    "recall = tf.keras.metrics.Recall()\n",
    "cat_acc = tf.keras.metrics.CategoricalAccuracy()\n",
    "auc = tf.keras.metrics.AUC()\n",
    "\n",
    "radam = RectifiedAdam(learning_rate=0.005) #for feature extraction we would use higher learning rate, for fine-tuning much lower.\n",
    "\n",
    "model.compile(optimizer=radam, loss='categorical_crossentropy', weighted_metrics=[auc, recall, precision, cat_acc])\n",
    "\n",
    "print(model.metrics_names)"
   ]
  },
  {
   "cell_type": "code",
   "execution_count": 24,
   "metadata": {},
   "outputs": [],
   "source": [
    "#setting callbacks\n",
    "filepath=\"top-tune-{val_auc:.4f}-{auc:.4f}-{epoch:02d}-.hdf5\"\n",
    "checkpoint = ModelCheckpoint(session_dir + filepath, monitor='val_auc', verbose=1, save_best_only=True, mode='max')\n",
    "logdir = os.path.join(\"logs\", datetime.datetime.now().strftime(\"%Y%m%d-%H%M%S\"))\n",
    "tensorboard_callback = tf.keras.callbacks.TensorBoard(logdir, histogram_freq=1)\n",
    "\n",
    "callbacks_list = [checkpoint, tensorboard_callback]"
   ]
  },
  {
   "cell_type": "markdown",
   "metadata": {},
   "source": [
    "### Train ###"
   ]
  },
  {
   "cell_type": "code",
   "execution_count": null,
   "metadata": {
    "scrolled": true
   },
   "outputs": [],
   "source": [
    "history = model.fit_generator(generator=train_generator,\n",
    "                                  steps_per_epoch=np.ceil(train_generator.n / BATCH_SIZE),\n",
    "                                  epochs=4, \n",
    "                                  workers=os.cpu_count(),\n",
    "                                  class_weight=class_weights,\n",
    "                                  validation_data=validation_generator, \n",
    "                                  validation_steps=np.ceil(validation_generator.n / BATCH_SIZE),\n",
    "                                  callbacks=callbacks_list,\n",
    "                                  verbose=1) "
   ]
  },
  {
   "cell_type": "markdown",
   "metadata": {},
   "source": [
    "### Plots ###"
   ]
  },
  {
   "cell_type": "code",
   "execution_count": 30,
   "metadata": {},
   "outputs": [],
   "source": [
    "def plot_metrics(history):\n",
    "\n",
    "    import matplotlib as mpl\n",
    "    mpl.rcParams['figure.figsize'] = (12, 10)\n",
    "    metrics =  model.metrics_names\n",
    "    metrics = ['auc','loss', 'recall', 'categorical_accuracy', 'precision', ]\n",
    "    colors = plt.rcParams['axes.prop_cycle'].by_key()['color']\n",
    "\n",
    "    for n, metric in enumerate(metrics):\n",
    "        name = metric.replace(\"_\",\" \").capitalize()\n",
    "        plt.subplot(3,2,n+1)\n",
    "        if isinstance(history,list):\n",
    "            epochs = list(range(len(history) * len(history[0].epoch)))\n",
    "            train_metrics = sum([[value for value in hist.history[metric]] for hist in history],[])\n",
    "            val_metrics = sum([[value for value in hist.history['val_'+metric]] for hist in history],[])\n",
    "            plt.plot(epochs,  train_metrics, color=colors[0], label='Train')\n",
    "            plt.plot(epochs, val_metrics,\n",
    "                 color=colors[1], label='Val')\n",
    "        else:\n",
    "            plt.plot(history.epoch,  history.history[metric], color=colors[0], label='Train')\n",
    "            plt.plot(history.epoch, history.history['val_'+metric],\n",
    "                     color=colors[1], linestyle=\"--\", label='Val')\n",
    "        plt.xlabel('Epoch')\n",
    "        plt.ylabel(name)\n",
    "        if metric == 'loss':\n",
    "            plt.ylim([0, plt.ylim()[1]])\n",
    "#         elif metric == 'auc':\n",
    "#             plt.ylim([0.8,1])\n",
    "        else:\n",
    "            plt.ylim([0,1])\n",
    "\n",
    "        plt.legend()\n"
   ]
  },
  {
   "cell_type": "code",
   "execution_count": 31,
   "metadata": {},
   "outputs": [
    {
     "data": {
      "image/png": "[encoded data removed]",
      "text/plain": [
       "<Figure size 864x720 with 5 Axes>"
      ]
     },
     "metadata": {},
     "output_type": "display_data"
    }
   ],
   "source": [
    "#top-tune-augs with rms_prop\n",
    "plot_metrics(history)"
   ]
  },
  {
   "cell_type": "code",
   "execution_count": 39,
   "metadata": {},
   "outputs": [
    {
     "data": {
      "image/png": "[encoded data removed]",
      "text/plain": [
       "<Figure size 864x720 with 5 Axes>"
      ]
     },
     "metadata": {},
     "output_type": "display_data"
    }
   ],
   "source": [
    "#top-tune-no-augs with radam\n",
    "plot_metrics(history)"
   ]
  },
  {
   "cell_type": "code",
   "execution_count": null,
   "metadata": {},
   "outputs": [],
   "source": []
  },
  {
   "cell_type": "code",
   "execution_count": 20,
   "metadata": {},
   "outputs": [
    {
     "name": "stdout",
     "output_type": "stream",
     "text": [
      "16/16 [==============================] - 552s 35s/step - loss: 0.8660 - auc: 0.9477 - recall: 0.7495 - precision: 0.7799 - categorical_accuracy: 0.7595\n"
     ]
    },
    {
     "data": {
      "text/plain": [
       "[0.8660486347507685, 0.9476527, 0.749501, 0.7798546, 0.759481]"
      ]
     },
     "execution_count": 20,
     "metadata": {},
     "output_type": "execute_result"
    }
   ],
   "source": [
    "output = model.evaluate_generator(generator = test_generator, steps=np.ceil(test_generator.n / BATCH_SIZE), verbose=1)\n",
    "output"
   ]
  },
  {
   "cell_type": "markdown",
   "metadata": {
    "_uuid": "4204e4056c8d12c1fee72b97912879cad4ee483f"
   },
   "source": [
    "### Confusion Matrix"
   ]
  },
  {
   "cell_type": "code",
   "execution_count": 22,
   "metadata": {
    "_uuid": "74a66905f7a2d702f3d2aad9abf9fe114b96f0ff"
   },
   "outputs": [
    {
     "data": {
      "text/plain": [
       "array([0, 0, 0, ..., 6, 6, 6], dtype=int32)"
      ]
     },
     "execution_count": 22,
     "metadata": {},
     "output_type": "execute_result"
    }
   ],
   "source": [
    "# Get the labels of the test images.\n",
    "\n",
    "test_labels = test_generator.classes\n",
    "test_labels"
   ]
  },
  {
   "cell_type": "code",
   "execution_count": null,
   "metadata": {
    "_kg_hide-output": true,
    "_uuid": "53f4b22617285e923f336cdb2ffcbe1f9ff5e5db"
   },
   "outputs": [],
   "source": [
    "# We need these to plot the confusion matrix.\n"
   ]
  },
  {
   "cell_type": "code",
   "execution_count": 24,
   "metadata": {
    "_uuid": "d5113e039e8384b96595751e084f0c5ed677080a"
   },
   "outputs": [
    {
     "data": {
      "text/plain": [
       "{'akiec': 0, 'bcc': 1, 'bkl': 2, 'df': 3, 'mel': 4, 'nv': 5, 'vasc': 6}"
      ]
     },
     "execution_count": 24,
     "metadata": {},
     "output_type": "execute_result"
    }
   ],
   "source": [
    "# Print the label associated with each class\n",
    "test_generator.class_indices"
   ]
  },
  {
   "cell_type": "code",
   "execution_count": 21,
   "metadata": {
    "_uuid": "701dafc5874aa60a054a74c04170cb7e8d750e94"
   },
   "outputs": [
    {
     "name": "stdout",
     "output_type": "stream",
     "text": [
      "16/16 [==============================] - 947s 59s/step\n"
     ]
    },
    {
     "data": {
      "text/plain": [
       "(1002, 7)"
      ]
     },
     "execution_count": 21,
     "metadata": {},
     "output_type": "execute_result"
    }
   ],
   "source": [
    "# make a prediction\n",
    "predictions = model.predict_generator(generator = test_generator, steps=np.ceil(test_generator.n / BATCH_SIZE), verbose=1)\n",
    "predictions.shape"
   ]
  },
  {
   "cell_type": "code",
   "execution_count": 25,
   "metadata": {
    "_uuid": "7cfd9bdbbd27e27d9c5de7c6593527686445ea89"
   },
   "outputs": [],
   "source": [
    "# Source: Scikit Learn website\n",
    "# http://scikit-learn.org/stable/auto_examples/\n",
    "# model_selection/plot_confusion_matrix.html#sphx-glr-auto-examples-model-\n",
    "# selection-plot-confusion-matrix-py\n",
    "\n",
    "\n",
    "def plot_confusion_matrix(cm, classes,\n",
    "                          normalize=False,\n",
    "                          title='Confusion matrix',\n",
    "                          cmap=plt.cm.Blues):\n",
    "    \"\"\"\n",
    "    This function prints and plots the confusion matrix.\n",
    "    Normalization can be applied by setting `normalize=True`.\n",
    "    \"\"\"\n",
    "    if normalize:\n",
    "        cm = cm.astype('float') / cm.sum(axis=1)[:, np.newaxis]\n",
    "        print(\"Normalized confusion matrix\")\n",
    "    else:\n",
    "        print('Confusion matrix, without normalization')\n",
    "\n",
    "    print(cm)\n",
    "\n",
    "    plt.imshow(cm, interpolation='nearest', cmap=cmap)\n",
    "    plt.title(title)\n",
    "    plt.colorbar()\n",
    "    tick_marks = np.arange(len(classes))\n",
    "    plt.xticks(tick_marks, classes, rotation=45)\n",
    "    plt.yticks(tick_marks, classes)\n",
    "\n",
    "    fmt = '.2f' if normalize else 'd'\n",
    "    thresh = cm.max() / 2.\n",
    "    for i, j in itertools.product(range(cm.shape[0]), range(cm.shape[1])):\n",
    "        plt.text(j, i, format(cm[i, j], fmt),\n",
    "                 horizontalalignment=\"center\",\n",
    "                 color=\"white\" if cm[i, j] > thresh else \"black\")\n",
    "\n",
    "    plt.ylabel('True label')\n",
    "    plt.xlabel('Predicted label')\n",
    "    plt.tight_layout()\n",
    "\n",
    "\n"
   ]
  },
  {
   "cell_type": "code",
   "execution_count": null,
   "metadata": {
    "_uuid": "8d499136cdb5fdf356515beb6e0cd1130ed584db"
   },
   "outputs": [],
   "source": [
    "test_labels.shape"
   ]
  },
  {
   "cell_type": "code",
   "execution_count": null,
   "metadata": {
    "_uuid": "940b71bb2b37d847ba81dd67ca50c7fd5785fd35"
   },
   "outputs": [],
   "source": [
    "# argmax returns the index of the max value in a row\n"
   ]
  },
  {
   "cell_type": "code",
   "execution_count": null,
   "metadata": {
    "_uuid": "97c6b493c368ff6565782c1bb15827f5d349ef79"
   },
   "outputs": [],
   "source": [
    "test_batches.class_indices"
   ]
  },
  {
   "cell_type": "code",
   "execution_count": 28,
   "metadata": {
    "_uuid": "0ddbd33a93468075c64ba49188a6d272a5c7828f"
   },
   "outputs": [
    {
     "name": "stdout",
     "output_type": "stream",
     "text": [
      "Confusion matrix, without normalization\n",
      "[[  9   0   5   0   3  17   0]\n",
      " [  1  10   2   1   3  36   0]\n",
      " [  0   0  29   0   9  69   0]\n",
      " [  0   0   0   4   1   5   1]\n",
      " [  1   0   2   4  45  60   0]\n",
      " [  1   0   3   2  10 654   1]\n",
      " [  0   0   0   0   1   3  10]]\n"
     ]
    },
    {
     "data": {
      "image/png": "[encoded data removed]",
      "text/plain": [
       "<Figure size 432x288 with 2 Axes>"
      ]
     },
     "metadata": {},
     "output_type": "display_data"
    }
   ],
   "source": [
    "# Define the labels of the class indices. These need to match the \n",
    "# order shown above.\n",
    "cm = confusion_matrix(test_labels, predictions.argmax(axis=1))\n",
    "cm_plot_labels = ['akiec', 'bcc', 'bkl', 'df', 'mel','nv', 'vasc']\n",
    "\n",
    "plot_confusion_matrix(cm, cm_plot_labels, title='Confusion Matrix')"
   ]
  },
  {
   "cell_type": "markdown",
   "metadata": {
    "_uuid": "571f3f23d58daa03ec3fbf9207363063b2a63373"
   },
   "source": [
    "### Generate the Classification Report"
   ]
  },
  {
   "cell_type": "code",
   "execution_count": 29,
   "metadata": {
    "_uuid": "ebc31a49c8e8ab5d1305e46a7d638e0da326da8b"
   },
   "outputs": [],
   "source": [
    "# Get the index of the class with the highest probability score\n",
    "y_pred = np.argmax(predictions, axis=1)\n",
    "\n",
    "# Get the labels of the test images.\n",
    "y_true = test_generator.classes"
   ]
  },
  {
   "cell_type": "code",
   "execution_count": 30,
   "metadata": {
    "_uuid": "05027fe3475ab922340f9d905ec1239e2157fa05"
   },
   "outputs": [
    {
     "name": "stdout",
     "output_type": "stream",
     "text": [
      "              precision    recall  f1-score   support\n",
      "\n",
      "       akiec       0.75      0.26      0.39        34\n",
      "         bcc       1.00      0.19      0.32        53\n",
      "         bkl       0.71      0.27      0.39       107\n",
      "          df       0.36      0.36      0.36        11\n",
      "         mel       0.62      0.40      0.49       112\n",
      "          nv       0.77      0.97      0.86       671\n",
      "        vasc       0.83      0.71      0.77        14\n",
      "\n",
      "   micro avg       0.76      0.76      0.76      1002\n",
      "   macro avg       0.72      0.45      0.51      1002\n",
      "weighted avg       0.76      0.76      0.72      1002\n",
      "\n"
     ]
    }
   ],
   "source": [
    "from sklearn.metrics import classification_report\n",
    "\n",
    "# Generate a classification report\n",
    "report = classification_report(y_true, y_pred, target_names=cm_plot_labels)\n",
    "\n",
    "print(report)"
   ]
  },
  {
   "cell_type": "markdown",
   "metadata": {
    "_uuid": "d8313f0f4024fdb8053f943136880e63ac962ac2"
   },
   "source": [
    "**Precision** = Given a class prediction from a classifier, how likely is it to be correct?<br>\n",
    "**Recall** = Given a class, will the classifier be able to detect it?<br>\n",
    "**F1 Score** = The harmonic mean of the recall and precision. Essentially, it punishes extreme values."
   ]
  },
  {
   "cell_type": "markdown",
   "metadata": {},
   "source": [
    "### Convert model to TF Lite"
   ]
  },
  {
   "cell_type": "code",
   "execution_count": 39,
   "metadata": {},
   "outputs": [
    {
     "data": {
      "text/plain": [
       "162732664"
      ]
     },
     "execution_count": 39,
     "metadata": {},
     "output_type": "execute_result"
    }
   ],
   "source": [
    "filename = 'fine-tune-0.9426-0.9876-01-.hdf5'\n",
    "\n",
    "# model = tf.keras.models.load_model(filename, custom_objects={'RectifiedAdam': RectifiedAdam})\n",
    "converter = tf.lite.TFLiteConverter.from_keras_model(model)\n",
    "tflite_model = converter.convert()\n",
    "open(\"skin_inspector.tflite\", \"wb\").write(tflite_model)"
   ]
  },
  {
   "cell_type": "markdown",
   "metadata": {},
   "source": [
    "### Tensorflow 2.0"
   ]
  },
  {
   "cell_type": "markdown",
   "metadata": {},
   "source": [
    "Here we make simple experiment - load the image, decode it, encode it, save and load again. How many pixels would have the same value? We find out, that tf module has much more accuracy in this operation, so we used tf for image operations in this research."
   ]
  },
  {
   "cell_type": "code",
   "execution_count": 176,
   "metadata": {},
   "outputs": [
    {
     "data": {
      "text/plain": [
       "0.9259572016460905"
      ]
     },
     "metadata": {},
     "output_type": "display_data"
    },
    {
     "data": {
      "text/plain": [
       "562519"
      ]
     },
     "execution_count": 176,
     "metadata": {},
     "output_type": "execute_result"
    }
   ],
   "source": [
    "images_paths = np.array(glob(os.path.join(TEST_DATA_DIR, '*', '*.jpg')))\n",
    "imag = tf.io.decode_jpeg(tf.io.read_file(images_paths[2]), dct_method='INTEGER_ACCURATE')\n",
    "img = tf.io.encode_jpeg(imag, quality=100, chroma_downsampling=False)\n",
    "tf.io.write_file('./aaa.jpg', img)\n",
    "imag2 = tf.io.decode_jpeg(tf.io.read_file('./aaa.jpg'), dct_method='INTEGER_ACCURATE')\n",
    "comp = (imag == imag2).numpy()\n",
    "display(np.sum(comp)/comp.size)\n",
    "np.sum(comp)"
   ]
  },
  {
   "cell_type": "code",
   "execution_count": 177,
   "metadata": {},
   "outputs": [
    {
     "data": {
      "text/plain": [
       "0.48036378600823043"
      ]
     },
     "metadata": {},
     "output_type": "display_data"
    },
    {
     "data": {
      "text/plain": [
       "291821"
      ]
     },
     "execution_count": 177,
     "metadata": {},
     "output_type": "execute_result"
    }
   ],
   "source": [
    "images_paths = np.array(glob(os.path.join(TEST_DATA_DIR, '*', '*.jpg')))\n",
    "imag = cv2.imread(images_paths[0])\n",
    "cv2.imwrite('./aaa.jpg', imag, [int(cv2.IMWRITE_JPEG_QUALITY), 100])\n",
    "imag2 = cv2.imread('./aaa.jpg')\n",
    "comp = (imag == imag2)\n",
    "display(np.sum(comp)/comp.size)\n",
    "np.sum(comp)"
   ]
  },
  {
   "cell_type": "markdown",
   "metadata": {},
   "source": [
    "There are different ways to compute mean of the entire dataset. One limitation is the RAM memory. To be able to compute mean for the balanced train dataset (35000 images) we had to have 150 GB free memory. And that amount was not enough for computing std for the entire dataset. Therefore we developed a function for processing images one by one. We compared two implementations with tf module and numpy module. As can be seen tf module 1.5 times faster than numpy anologue."
   ]
  },
  {
   "cell_type": "code",
   "execution_count": 225,
   "metadata": {},
   "outputs": [],
   "source": [
    "def compute_statistics(subset_dir):\n",
    "    images_paths = np.array(glob(os.path.join(subset_dir, '*', '*.jpg')))\n",
    "    dataset_mean = []\n",
    "    dataset_std = []\n",
    "    \n",
    "    def get_stat(stack_array, std=False):\n",
    "        for images_path in tqdm(images_paths):\n",
    "            img = read_image(images_path)\n",
    "            img = shade_of_grey(img.numpy())\n",
    "            img = tf.convert_to_tensor(img,tf.dtypes.float64)\n",
    "            if std:\n",
    "                img = (img - dataset_mean) ** 2\n",
    "            img = tf.math.reduce_mean(img, axis=[-2,-3])\n",
    "            stack_array.append(img)\n",
    "        return tf.math.reduce_mean(tf.stack(stack_array), axis=0) \n",
    "    dataset_mean = get_stat(dataset_mean)\n",
    "    dataset_std = get_stat(dataset_std,std=True) ** (1/2)\n",
    "\n",
    "    print('mean = ', dataset_mean.numpy() / 255)\n",
    "    print('std = ', dataset_std.numpy() / 255)"
   ]
  },
  {
   "cell_type": "code",
   "execution_count": 226,
   "metadata": {},
   "outputs": [
    {
     "name": "stderr",
     "output_type": "stream",
     "text": [
      "100%|██████████| 8013/8013 [01:46<00:00, 75.20it/s]\n",
      "100%|██████████| 8013/8013 [02:17<00:00, 58.09it/s]"
     ]
    },
    {
     "name": "stdout",
     "output_type": "stream",
     "text": [
      "mean =  [0.70010796 0.59071487 0.58644372]\n",
      "std =  [0.17023377 0.16380622 0.17671748]\n"
     ]
    },
    {
     "name": "stderr",
     "output_type": "stream",
     "text": [
      "\n"
     ]
    }
   ],
   "source": [
    "if CREATE_STRUCTURE:\n",
    "    compute_statistics(TRAIN_DATA_DIR)"
   ]
  },
  {
   "cell_type": "markdown",
   "metadata": {},
   "source": [
    "Numpy"
   ]
  },
  {
   "cell_type": "code",
   "execution_count": 227,
   "metadata": {},
   "outputs": [],
   "source": [
    "def compute_statistics(subset_dir):\n",
    "    images_paths = np.array(glob(os.path.join(subset_dir, '*', '*.jpg')))\n",
    "    dataset_mean = []\n",
    "    dataset_std = []\n",
    "    \n",
    "    def get_stat(stack_array, std=False):\n",
    "        for images_path in tqdm(images_paths):\n",
    "            img = read_image(images_path).numpy().astype(np.float32)\n",
    "            img = shade_of_grey(img)\n",
    "            if std:\n",
    "                img = (img - dataset_mean) ** 2\n",
    "            img = img.mean(axis=(0,1))\n",
    "            stack_array.append(img)\n",
    "        return np.stack(stack_array).mean(axis=0) \n",
    "    dataset_mean = get_stat(dataset_mean)\n",
    "    dataset_std = get_stat(dataset_std,std=True) ** (1/2)\n",
    "    \n",
    "    print('mean = ', dataset_mean / 255.)\n",
    "    print('std = ', dataset_std / 255.)"
   ]
  },
  {
   "cell_type": "code",
   "execution_count": 228,
   "metadata": {
    "scrolled": true
   },
   "outputs": [
    {
     "name": "stderr",
     "output_type": "stream",
     "text": [
      "100%|██████████| 8013/8013 [02:40<00:00, 49.85it/s]\n",
      "100%|██████████| 8013/8013 [03:24<00:00, 39.09it/s]\n"
     ]
    },
    {
     "name": "stdout",
     "output_type": "stream",
     "text": [
      "mean =  [0.70010796 0.59071487 0.58644372]\n",
      "std =  [0.17023377 0.16380622 0.17671748]\n"
     ]
    }
   ],
   "source": [
    "if CREATE_STRUCTURE:\n",
    "    compute_statistics(TRAIN_DATA_DIR)"
   ]
  },
  {
   "cell_type": "markdown",
   "metadata": {},
   "source": [
    "Also we tried to use custom loss and custom metrics"
   ]
  },
  {
   "cell_type": "code",
   "execution_count": 21,
   "metadata": {},
   "outputs": [],
   "source": [
    "class WeightedCategoricalCrossentropy(CategoricalCrossentropy):\n",
    "    \n",
    "    def __init__(self, cost_mat, name='weighted_categorical_crossentropy', **kwargs):\n",
    "        assert(cost_mat.ndim == 2)\n",
    "        assert(cost_mat.shape[0] == cost_mat.shape[1])\n",
    "        \n",
    "        super().__init__(name=name, **kwargs)\n",
    "        self.cost_mat = K.cast_to_floatx(cost_mat)\n",
    "    \n",
    "    def __call__(self, y_true, y_pred):\n",
    "      \n",
    "        return super().__call__(\n",
    "            y_true=y_true,\n",
    "            y_pred=y_pred,\n",
    "            sample_weight=get_sample_weights(y_true, y_pred, self.cost_mat),\n",
    "        )\n",
    "\n",
    "\n",
    "def get_sample_weights(y_true, y_pred, cost_m):\n",
    "    num_classes = len(cost_m)\n",
    "\n",
    "    y_pred.shape.assert_has_rank(2)\n",
    "    y_pred.shape[1].assert_is_compatible_with(num_classes)\n",
    "    y_pred.shape.assert_is_compatible_with(y_true.shape)\n",
    "\n",
    "    y_pred = K.one_hot(K.argmax(y_pred), num_classes)\n",
    "\n",
    "    y_true_nk1 = K.expand_dims(y_true, 2)\n",
    "    y_pred_n1k = K.expand_dims(y_pred, 1)\n",
    "    cost_m_1kk = K.expand_dims(cost_m, 0)\n",
    "\n",
    "    sample_weights_nkk = cost_m_1kk * y_true_nk1 * y_pred_n1k\n",
    "    sample_weights_n = K.sum(sample_weights_nkk, axis=[1, 2])\n",
    "\n",
    "    return sample_weights_n"
   ]
  },
  {
   "cell_type": "code",
   "execution_count": 22,
   "metadata": {},
   "outputs": [],
   "source": [
    "class WeightedCategoricalAccuracy(tf.keras.metrics.CategoricalAccuracy):\n",
    "\n",
    "    def __init__(self, cost_mat, name='weighted_categorical_accuracy', **kwargs):\n",
    "        assert(cost_mat.ndim == 2)\n",
    "        assert(cost_mat.shape[0] == cost_mat.shape[1])\n",
    "        \n",
    "        super().__init__(name=name, **kwargs)\n",
    "        self.cost_mat = K.cast_to_floatx(cost_mat)\n",
    "    \n",
    "    def update_state(self, y_true, y_pred, sample_weight=None):\n",
    "    \n",
    "        return super().update_state(\n",
    "            y_true=y_true,\n",
    "            y_pred=y_pred,\n",
    "            sample_weight=get_sample_weights(y_true, y_pred, self.cost_mat),\n",
    "        )"
   ]
  }
 ],
 "metadata": {
  "kernelspec": {
   "display_name": "Python 3",
   "language": "python",
   "name": "python3"
  },
  "language_info": {
   "codemirror_mode": {
    "name": "ipython",
    "version": 3
   },
   "file_extension": ".py",
   "mimetype": "text/x-python",
   "name": "python",
   "nbconvert_exporter": "python",
   "pygments_lexer": "ipython3",
   "version": "3.7.3"
  },
  "toc": {
   "base_numbering": 1,
   "nav_menu": {},
   "number_sections": true,
   "sideBar": true,
   "skip_h1_title": false,
   "title_cell": "Table of Contents",
   "title_sidebar": "Contents",
   "toc_cell": false,
   "toc_position": {},
   "toc_section_display": true,
   "toc_window_display": false
  },
  "varInspector": {
   "cols": {
    "lenName": 16,
    "lenType": 16,
    "lenVar": 40
   },
   "kernels_config": {
    "python": {
     "delete_cmd_postfix": "",
     "delete_cmd_prefix": "del ",
     "library": "var_list.py",
     "varRefreshCmd": "print(var_dic_list())"
    },
    "r": {
     "delete_cmd_postfix": ") ",
     "delete_cmd_prefix": "rm(",
     "library": "var_list.r",
     "varRefreshCmd": "cat(var_dic_list()) "
    }
   },
   "types_to_exclude": [
    "module",
    "function",
    "builtin_function_or_method",
    "instance",
    "_Feature"
   ],
   "window_display": false
  }
 },
 "nbformat": 4,
 "nbformat_minor": 4
}
